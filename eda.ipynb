{
 "cells": [
  {
   "cell_type": "code",
   "execution_count": null,
   "id": "2543028f",
   "metadata": {},
   "outputs": [],
   "source": [
    "#EDA\n",
    "\n",
    "import pandas as pd\n",
    "import sqlite3\n",
    "conn = sqlite3.connect('vendor_dataset.db')\n"
   ]
  },
  {
   "cell_type": "code",
   "execution_count": null,
   "id": "f59bdc2b",
   "metadata": {},
   "outputs": [],
   "source": [
    "tables = pd.read_sql_query(\"select name from sqlite_master where type = 'table'\",conn)\n",
    "tables"
   ]
  },
  {
   "cell_type": "code",
   "execution_count": null,
   "id": "b8126f3f",
   "metadata": {},
   "outputs": [],
   "source": [
    "for table in tables['name']:\n",
    "    print('-'*50, f'{table}', '-'*50)\n",
    "    print('Count of records:', pd.read_sql(f\"select count(*) as count from {table}\",conn)['count'].values[0])\n",
    "    display(pd.read_sql(f'select * from {table} limit 5',conn))"
   ]
  },
  {
   "cell_type": "code",
   "execution_count": null,
   "id": "312f90c4",
   "metadata": {},
   "outputs": [],
   "source": [
    "purchases = pd.read_sql_query('select * from purchases where VendorNumber = 4466',conn)\n",
    "purchases"
   ]
  },
  {
   "cell_type": "code",
   "execution_count": null,
   "id": "1e8ce9b4",
   "metadata": {},
   "outputs": [],
   "source": [
    "purchase_prices = pd.read_sql_query('select * from purchase_prices where VendorNumber = 4466',conn)\n",
    "purchase_prices"
   ]
  },
  {
   "cell_type": "code",
   "execution_count": null,
   "id": "5628801f",
   "metadata": {},
   "outputs": [],
   "source": [
    "vendor_invoice = pd.read_sql_query('select * from vendor_invoice where VendorNumber = 4466',conn)\n",
    "vendor_invoice"
   ]
  },
  {
   "cell_type": "code",
   "execution_count": null,
   "id": "1f54269a",
   "metadata": {},
   "outputs": [],
   "source": [
    "sales = pd.read_sql_query('select * from sales where VendorNo = 4466',conn)\n",
    "sales"
   ]
  },
  {
   "cell_type": "code",
   "execution_count": null,
   "id": "22560b99",
   "metadata": {},
   "outputs": [],
   "source": [
    "purchases.groupby(['Brand', 'PurchasePrice'])[['Quantity','Dollars']].sum()\n",
    "purchase_prices"
   ]
  },
  {
   "cell_type": "code",
   "execution_count": null,
   "id": "42c2edcb",
   "metadata": {},
   "outputs": [],
   "source": [
    "vendor_invoice['PONumber'].nunique()\n",
    "vendor_invoice.columns"
   ]
  },
  {
   "cell_type": "code",
   "execution_count": null,
   "id": "590abf37",
   "metadata": {},
   "outputs": [],
   "source": [
    "sales.groupby('Brand')[['SalesDollars','SalesPrice','SalesQuantity']].sum()"
   ]
  },
  {
   "cell_type": "markdown",
   "id": "cfffe0ea",
   "metadata": {},
   "source": [
    "- The purchases table contains actual purchase data, including the date of purchase, products (brands) purchased by vendors, the amount paid (in dollars), and the quantity purchased.\n",
    "- The purchase price column is derived from the purchase_prices table, which provides product-wise actual and purchase prices. The combination of vendor and brand is unique in this table.\n",
    "- The vendor_invoice table aggregates data from the purchases table, summarizing quantity and dollar amounts, along with an additional column for freight. This table maintains uniqueness based on vendor and PO number.\n",
    "- The sales table captures actual sales transactions, detailing the brands purchased by vendors, the quantity sold, the selling price, and the revenue earned.\n",
    "\n",
    "As the data that we need for analysis is distributed in different tables, we need to create a summary table containing:\n",
    "- purchase transactions made by vendors\n",
    "- sales transaction data\n",
    "- freight costs for each vendor\n",
    "- actual product prices from vendors"
   ]
  },
  {
   "cell_type": "code",
   "execution_count": null,
   "id": "1facfe6f",
   "metadata": {},
   "outputs": [],
   "source": [
    "vendor_invoice.columns"
   ]
  },
  {
   "cell_type": "code",
   "execution_count": null,
   "id": "3ef20cf3",
   "metadata": {},
   "outputs": [],
   "source": [
    "freight_summary = pd.read_sql_query(\"\"\"select VendorNumber, SUM(Freight) as FreightCost\n",
    "from vendor_invoice\n",
    "group by VendorNumber\"\"\",conn)\n",
    "freight_summary"
   ]
  },
  {
   "cell_type": "code",
   "execution_count": null,
   "id": "0680bfde",
   "metadata": {},
   "outputs": [],
   "source": [
    "vendor_invoice.columns\n",
    "purchase_prices.columns"
   ]
  },
  {
   "cell_type": "code",
   "execution_count": null,
   "id": "044fc974",
   "metadata": {},
   "outputs": [],
   "source": [
    "pd.read_sql_query(\"\"\"\n",
    "SELECT \n",
    "    p.VendorNumber, \n",
    "    p.VendorName,\n",
    "    p.Brand,\n",
    "    p.PurchasePrice,\n",
    "    pp.Volume,\n",
    "    pp.Price AS ActualPrice,\n",
    "    SUM(p.Quantity) AS TotalPurchaseQuantity,\n",
    "    SUM(p.Dollars) AS TotalPurchaseDollars\n",
    "FROM purchases p\n",
    "JOIN purchase_prices pp\n",
    "    ON p.Brand = pp.Brand \n",
    "    where p.PurchasePrice > 0\n",
    "GROUP BY \n",
    "    p.VendorNumber,\n",
    "    p.VendorName,\n",
    "    p.Brand\n",
    "ORDER BY \n",
    "    TotalPurchaseDollars;\n",
    "\"\"\"\n",
    ",conn)"
   ]
  },
  {
   "cell_type": "code",
   "execution_count": null,
   "id": "f766d872",
   "metadata": {},
   "outputs": [],
   "source": [
    "sales.columns"
   ]
  },
  {
   "cell_type": "code",
   "execution_count": null,
   "id": "00725ec9",
   "metadata": {},
   "outputs": [],
   "source": [
    "pd.read_sql_query(\"\"\"SELECT \n",
    "VendorNo,\n",
    "Brand,\n",
    "sum(SalesDollars) as TotalSalesDollars,\n",
    "sum(SalesPrice) as TotalSalesPrice,\n",
    "Sum(SalesQuantity) as TotalSalesQuantity,\n",
    "sum(ExciseTax) as TotalExciseTax\n",
    "from sales\n",
    "\n",
    "group by VendorNo,Brand\n",
    "order by TotalSalesDollars\n",
    "\"\"\",conn)"
   ]
  },
  {
   "cell_type": "markdown",
   "id": "1d1cab6a",
   "metadata": {},
   "source": [
    "canot execute this because of big query"
   ]
  },
  {
   "cell_type": "code",
   "execution_count": null,
   "id": "6b5d2a92",
   "metadata": {},
   "outputs": [],
   "source": [
    "import time\n",
    "start = time.time()\n",
    "final_table = pd.read_sql_query(\"\"\"SELECT\n",
    "    pp.VendorNumber,\n",
    "    pp.Brand,\n",
    "    pp.Price as ActualPrice,\n",
    "    pp.PurchasePrice,\n",
    "    SUM(s.SalesQuantity) AS TotalSalesQuantity,\n",
    "    SUM(s.SalesDollars) AS TotalSalesDollars,\n",
    "    SUM(s.SalesPrice) AS TotalSalesPrice,\n",
    "    SUM(s.ExciseTax) AS TotalExciseTax,\n",
    "    SUM(vi.Quantity) AS TotalPurchaseQuantity,\n",
    "    SUM(vi.Dollars) AS TotalPurchaseDollars,\n",
    "    SUM(vi.Freight) AS TotalFreightCost\n",
    "FROM purchase_prices pp\n",
    "JOIN sales s\n",
    "    ON pp.VendorNumber = s.VendorNo\n",
    "    AND pp.Brand = s.Brand\n",
    "JOIN vendor_invoice vi\n",
    "    ON pp.VendorNumber = vi.VendorNumber\n",
    "GROUP BY pp.VendorNumber, pp.Brand, pp.Price, pp.PurchasePrice\n",
    "\"\"\", conn)\n"
   ]
  },
  {
   "cell_type": "code",
   "execution_count": null,
   "id": "6c91cbdf",
   "metadata": {},
   "outputs": [],
   "source": [
    "vendor_sales_summary = pd.read_sql_query(\"\"\"\n",
    "WITH FreightSummary AS (\n",
    "    SELECT \n",
    "        VendorNumber,\n",
    "        SUM(Freight) AS FreightCost\n",
    "    FROM vendor_invoice\n",
    "    GROUP BY VendorNumber\n",
    "),\n",
    "PurchaseSummary AS (\n",
    "    SELECT\n",
    "        p.VendorNumber,\n",
    "        p.VendorName,\n",
    "        p.Brand,\n",
    "        p.Description,\n",
    "        p.PurchasePrice,\n",
    "        pp.Price AS ActualPrice,\n",
    "        pp.Volume,\n",
    "        SUM(p.Quantity) AS TotalPurchaseQuantity,\n",
    "        SUM(p.Dollars) AS TotalPurchaseDollars\n",
    "    FROM purchases p\n",
    "    JOIN purchase_prices pp\n",
    "        ON p.Brand = pp.Brand\n",
    "        AND p.VendorNumber = pp.VendorNumber  -- assuming this joint key is correct\n",
    "    WHERE p.PurchasePrice > 0\n",
    "    GROUP BY p.VendorNumber, p.VendorName, p.Brand, p.Description, p.PurchasePrice, pp.Price, pp.Volume\n",
    "),\n",
    "SalesSummary AS (\n",
    "    SELECT\n",
    "        VendorNo,\n",
    "        Brand,\n",
    "        SUM(SalesQuantity) AS TotalSalesQuantity,\n",
    "        SUM(SalesDollars) AS TotalSalesDollars,\n",
    "        SUM(SalesPrice) AS TotalSalesPrice,\n",
    "        SUM(ExciseTax) AS TotalExciseTax\n",
    "    FROM sales\n",
    "    GROUP BY VendorNo, Brand\n",
    ")\n",
    "\n",
    "SELECT\n",
    "    ps.VendorNumber,\n",
    "    ps.VendorName,\n",
    "    ps.Brand,\n",
    "    ps.Description,\n",
    "    ps.PurchasePrice,\n",
    "    ps.ActualPrice,\n",
    "    ps.Volume,\n",
    "    ps.TotalPurchaseQuantity,\n",
    "    ps.TotalPurchaseDollars,\n",
    "    ss.TotalSalesQuantity,\n",
    "    ss.TotalSalesDollars,\n",
    "    ss.TotalSalesPrice,\n",
    "    ss.TotalExciseTax,\n",
    "    fs.FreightCost       -- corrected spelling\n",
    "FROM PurchaseSummary ps\n",
    "LEFT JOIN SalesSummary ss\n",
    "    ON ps.VendorNumber = ss.VendorNo\n",
    "    AND ps.Brand = ss.Brand\n",
    "LEFT JOIN FreightSummary fs\n",
    "    ON ps.VendorNumber = fs.VendorNumber\n",
    "ORDER BY ps.TotalPurchaseDollars DESC\n",
    "\"\"\", conn)\n"
   ]
  },
  {
   "cell_type": "code",
   "execution_count": null,
   "id": "19ac6cb3",
   "metadata": {},
   "outputs": [],
   "source": [
    "vendor_sales_summary"
   ]
  },
  {
   "cell_type": "markdown",
   "id": "48a33bea",
   "metadata": {},
   "source": [
    "\n",
    "This query generates a vendor-wise sales and purchase summary, which is valuable for:\n",
    "\n",
    "**Performance Optimization:**\n",
    "\n",
    "- The query involves heavy joins and aggregations on large datasets like sales and purchases.\n",
    "- Storing the pre-aggregated results avoids repeated expensive computations.\n",
    "- Helps in analyzing sales, purchases, and pricing for different vendors and brands.\n",
    "- Future Benefits of Storing this data for faster Dashboarding & Reporting.\n",
    "- Instead of running expensive queries each time, dashboards can fetch data quickly from vendor_sales_summary."
   ]
  },
  {
   "cell_type": "code",
   "execution_count": null,
   "id": "f6e1248e",
   "metadata": {},
   "outputs": [],
   "source": [
    "vendor_sales_summary.dtypes"
   ]
  },
  {
   "cell_type": "code",
   "execution_count": null,
   "id": "95461a16",
   "metadata": {},
   "outputs": [],
   "source": [
    "vendor_sales_summary['VendorName'].unique()"
   ]
  },
  {
   "cell_type": "code",
   "execution_count": null,
   "id": "a0160a3d",
   "metadata": {},
   "outputs": [],
   "source": [
    "vendor_sales_summary['Description'].unique()"
   ]
  },
  {
   "cell_type": "code",
   "execution_count": null,
   "id": "21196200",
   "metadata": {},
   "outputs": [],
   "source": [
    "vendor_sales_summary['Volume'] = vendor_sales_summary['Volume'].astype('float64') "
   ]
  },
  {
   "cell_type": "code",
   "execution_count": null,
   "id": "f49fe2f5",
   "metadata": {},
   "outputs": [],
   "source": [
    "vendor_sales_summary.fillna(0,inplace = True)"
   ]
  },
  {
   "cell_type": "code",
   "execution_count": null,
   "id": "4ac20abb",
   "metadata": {},
   "outputs": [],
   "source": [
    "vendor_sales_summary['VendorName'] = vendor_sales_summary['VendorName'].str.strip()"
   ]
  },
  {
   "cell_type": "code",
   "execution_count": null,
   "id": "0e72b8f3",
   "metadata": {},
   "outputs": [],
   "source": [
    "vendor_sales_summary['GrossProfit'] = vendor_sales_summary['TotalSalesDollars'] - vendor_sales_summary['TotalPurchaseDollars'] "
   ]
  },
  {
   "cell_type": "code",
   "execution_count": null,
   "id": "6f816729",
   "metadata": {},
   "outputs": [],
   "source": [
    "vendor_sales_summary['ProfitMargin'] =( vendor_sales_summary['GrossProfit'] / vendor_sales_summary['TotalPurchaseDollars'] ) * 100"
   ]
  },
  {
   "cell_type": "code",
   "execution_count": null,
   "id": "4564cd67",
   "metadata": {},
   "outputs": [],
   "source": [
    "vendor_sales_summary['StockTurnover'] =  vendor_sales_summary['TotalSalesQuantity'] / vendor_sales_summary['TotalPurchaseQuantity']"
   ]
  },
  {
   "cell_type": "code",
   "execution_count": null,
   "id": "60b40aa6",
   "metadata": {},
   "outputs": [],
   "source": [
    "vendor_sales_summary['SalestoPurchaseRatio'] =  vendor_sales_summary['TotalSalesDollars'] / vendor_sales_summary['TotalPurchaseDollars']"
   ]
  },
  {
   "cell_type": "code",
   "execution_count": null,
   "id": "7c4381af",
   "metadata": {},
   "outputs": [],
   "source": [
    "cursor = conn.cursor()"
   ]
  },
  {
   "cell_type": "code",
   "execution_count": null,
   "id": "a27f75a8",
   "metadata": {},
   "outputs": [],
   "source": [
    "vendor_sales_summary.columns"
   ]
  },
  {
   "cell_type": "code",
   "execution_count": null,
   "id": "072a448c",
   "metadata": {},
   "outputs": [],
   "source": [
    "cursor.execute(\"\"\"create table vendor_sales_summary(\n",
    "VendorNumber int, \n",
    "VendorName varchar(100),\n",
    "Brand int,\n",
    "Description varchar(100), \n",
    "PurchasePrice decimal(10,2),\n",
    "ActualPrice decimal(10,2),\n",
    "Volume,\n",
    "TotalPurchaseQuantity int,\n",
    "TotalPurchaseDollars decimal(15,2),\n",
    "TotalSalesQuantity int,\n",
    "TotalSalesDollars decimal(15,2),\n",
    "TotalSalesPrice decimal(15,2),\n",
    "TotalExciseTax decimal(15,2),\n",
    "FreightCost decimal(15,2),\n",
    "GrossProfit decimal(15,2),\n",
    "ProfitMargin decimal(15,2),\n",
    "StockTurnover decimal(15,2),\n",
    "SalestoPurchaseRatio decimal(15,2),\n",
    "Primary key (VendorNumber, Brand)\n",
    ");\"\"\")"
   ]
  },
  {
   "cell_type": "code",
   "execution_count": null,
   "id": "6cde65ee",
   "metadata": {},
   "outputs": [],
   "source": [
    "pd.read_sql_query(\"select * from vendor_sales_summary\",conn)"
   ]
  },
  {
   "cell_type": "code",
   "execution_count": null,
   "id": "fe837382",
   "metadata": {},
   "outputs": [],
   "source": [
    "vendor_sales_summary.to_sql('vendor_sales_summary',conn, if_exists = 'replace',index = False)"
   ]
  },
  {
   "cell_type": "code",
   "execution_count": null,
   "id": "b73cf555",
   "metadata": {},
   "outputs": [],
   "source": [
    "pd.read_sql_query(\"select * from vendor_sales_summary\",conn)"
   ]
  }
 ],
 "metadata": {
  "language_info": {
   "name": "python"
  }
 },
 "nbformat": 4,
 "nbformat_minor": 5
}
