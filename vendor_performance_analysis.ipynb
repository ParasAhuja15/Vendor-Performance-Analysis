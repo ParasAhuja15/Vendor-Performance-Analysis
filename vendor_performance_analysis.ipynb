{
 "cells": [
  {
   "cell_type": "code",
   "execution_count": null,
   "id": "632d3b0e",
   "metadata": {},
   "outputs": [],
   "source": [
    "import pandas as pd\n",
    "import numpy as np\n",
    "import matplotlib.pyplot as plt\n",
    "import seaborn as sns\n",
    "import warnings\n",
    "import sqlite3\n",
    "from scipy.stats import ttest_ind\n",
    "import scipy.stats as stats\n",
    "\n",
    "warnings.filterwarnings('ignore')\n"
   ]
  },
  {
   "cell_type": "code",
   "execution_count": null,
   "id": "adb15b2f",
   "metadata": {},
   "outputs": [],
   "source": [
    "conn = sqlite3.connect('vendor_dataset.db')\n",
    "df = pd.read_sql_query(\"select * from vendor_sales_summary\",conn)\n",
    "df.head()"
   ]
  },
  {
   "cell_type": "markdown",
   "id": "f2d5b5df",
   "metadata": {},
   "source": [
    "\n",
    "### Exploratory Data Analysis\n",
    "\n",
    "- Previously, we examined the various tables in the database to identify key variables, understand their relationships, and determine which ones should be included in the final analysis.\n",
    "\n",
    "- In this phase of EDA, we will analyze the resultant table to gain insights into the distribution of each column. This will help us understand data patterns, identify anomalies, and ensure data quality before proceeding with further analysis.\n"
   ]
  },
  {
   "cell_type": "code",
   "execution_count": null,
   "id": "79c58cfd",
   "metadata": {},
   "outputs": [],
   "source": [
    "#summary statistics\n",
    "df.describe().T"
   ]
  },
  {
   "cell_type": "code",
   "execution_count": null,
   "id": "dc8496ff",
   "metadata": {},
   "outputs": [],
   "source": [
    "#distribution plots for numerical columns\n",
    "numerical_cols = df.select_dtypes(include = np.number).columns\n",
    "\n",
    "plt.figure(figsize = (15,10))\n",
    "for i,col in enumerate(numerical_cols):\n",
    "    plt.subplot(4,4,i+1)\n",
    "    sns.histplot(df[col],kde = True, bins = 30)\n",
    "    plt.title(col)\n",
    "plt.tight_layout()\n",
    "plt.show()\n"
   ]
  },
  {
   "cell_type": "code",
   "execution_count": null,
   "id": "61f0b29a",
   "metadata": {},
   "outputs": [],
   "source": [
    "#oulier detection with boxplt\n",
    "plt.figure(figsize = (15,10))\n",
    "for i,col in enumerate(numerical_cols):\n",
    "    plt.subplot(4,4,i+1)\n",
    "    sns.boxplot(y = df[col])\n",
    "    plt.title(col)\n",
    "plt.tight_layout()\n",
    "plt.show()"
   ]
  },
  {
   "cell_type": "markdown",
   "id": "9d434768",
   "metadata": {},
   "source": [
    "\n",
    "\n",
    "**Summary Statistics Insights:**\n",
    "\n",
    "**Negative & Zero Values:**\n",
    "- **Gross Profit:** Minimum value is -52,002.78, indicating losses. Some products or transactions may be selling at a loss due to high costs or selling at discounts lower than the purchase price.\n",
    "- **Profit Margin:** Has a minimum of -∞, which suggests cases where revenue is zero or even lower than costs.\n",
    "- **Total Sales Quantity & Sales Dollars:** Minimum values are 0, meaning some products were purchased but never sold. These could be slow-moving or obsolete stock.\n",
    "\n",
    "**Outliers Indicated by High Standard Deviations:**\n",
    "- **Purchase & Actual Prices:** The max values (5,681.81 & 7,499.99) are significantly higher than the mean (24.39 & 35.64), indicating potential premium products.\n",
    "- **Freight Cost:** Huge variation, from 0.09 to 257,032.07, suggests logistics inefficiencies or bulk shipments.\n",
    "- **Stock Turnover:** Ranges from 0 to 274.5, implying some products sell extremely fast while others remain in stock indefinitely. Value more than 1 indicates that sold quantity for that product is higher than purchased quantity due to either sales being fulfilled from older stock."
   ]
  },
  {
   "cell_type": "code",
   "execution_count": null,
   "id": "790428af",
   "metadata": {},
   "outputs": [],
   "source": [
    "# let's filter the data by removing inconsistencies\n",
    "df = pd.read_sql_query(\"\"\"SELECT *\n",
    "FROM vendor_sales_summary\n",
    "WHERE GrossProfit > 0\n",
    "AND ProfitMargin > 0\n",
    "AND TotalSalesQuantity > 0\"\"\", conn)\n"
   ]
  },
  {
   "cell_type": "code",
   "execution_count": null,
   "id": "824c795c",
   "metadata": {},
   "outputs": [],
   "source": [
    "df"
   ]
  },
  {
   "cell_type": "code",
   "execution_count": null,
   "id": "4e704497",
   "metadata": {},
   "outputs": [],
   "source": [
    "#distribution plots for numerical columns\n",
    "numerical_cols = df.select_dtypes(include = np.number).columns\n",
    "\n",
    "plt.figure(figsize = (15,10))\n",
    "for i,col in enumerate(numerical_cols):\n",
    "    plt.subplot(4,4,i+1)\n",
    "    sns.histplot(df[col],kde = True, bins = 30)\n",
    "    plt.title(col)\n",
    "plt.tight_layout()\n",
    "plt.show()\n"
   ]
  },
  {
   "cell_type": "code",
   "execution_count": null,
   "id": "e9e81756",
   "metadata": {},
   "outputs": [],
   "source": [
    "# Count Plots for Categorical Columns\n",
    "categorical_cols = [\"VendorName\", \"Description\"]\n",
    "\n",
    "plt.figure(figsize=(12, 5))\n",
    "for i, col in enumerate(categorical_cols):\n",
    "    plt.subplot(1, 2, i+1)\n",
    "    sns.countplot(y=df[col], order=df[col].value_counts().index[:10])  # Top 10 categories\n",
    "    plt.title(f\"Count Plot of {col}\")\n",
    "plt.tight_layout()\n",
    "plt.show()"
   ]
  },
  {
   "cell_type": "code",
   "execution_count": null,
   "id": "1345b9e1",
   "metadata": {},
   "outputs": [],
   "source": [
    "plt.figure(figsize = (12,8))\n",
    "correlation_matrix = df[numerical_cols].corr()\n",
    "sns.heatmap(correlation_matrix, annot = True, fmt = \".2f\",cmap = \"coolwarm\",linewidths = 0.5)\n",
    "plt.title(\"Correlation Heatmap\")\n",
    "plt.show()"
   ]
  },
  {
   "cell_type": "markdown",
   "id": "399b55fd",
   "metadata": {},
   "source": [
    "\n",
    "**Correlation Insights**\n",
    "\n",
    "- PurchasePrice has weak correlations with TotalSalesDollars (-0.012) and GrossProfit (-0.016), suggesting that price variations do not significantly impact sales revenue or profit.\n",
    "- Strong correlation between total purchase quantity and total sales quantity (0.999), confirming efficient inventory turnover.\n",
    "- Negative correlation between profit margin & total sales price (-0.179) suggests that as sales price increases, margins decrease, possibly due to competitive pricing pressures.\n",
    "- StockTurnover has weak negative correlations with both GrossProfit (-0.038) and ProfitMargin (-0.055), indicating that faster turnover does not necessarily result in higher profitability.\n"
   ]
  },
  {
   "cell_type": "markdown",
   "id": "65e955dd",
   "metadata": {},
   "source": [
    "# **Data Analysis**"
   ]
  },
  {
   "cell_type": "markdown",
   "id": "87439822",
   "metadata": {},
   "source": [
    "Identify Brands that needs Promotional or Pricing Adjustments which exhibit lower sales performance but higher profit margins"
   ]
  },
  {
   "cell_type": "code",
   "execution_count": null,
   "id": "c3f805d1",
   "metadata": {},
   "outputs": [],
   "source": [
    "brand_performance = df.groupby('Description').agg({\n",
    "    \"TotalSalesDollars\" : \"sum\",\n",
    "    \"ProfitMargin\" : \"mean\"\n",
    "}).reset_index()"
   ]
  },
  {
   "cell_type": "code",
   "execution_count": null,
   "id": "1445f2ca",
   "metadata": {},
   "outputs": [],
   "source": [
    "low_sales_threshold = brand_performance['TotalSalesDollars'].quantile(0.15)\n",
    "high_margin_threshold = brand_performance['ProfitMargin'].quantile(0.85)"
   ]
  },
  {
   "cell_type": "code",
   "execution_count": null,
   "id": "44b4deea",
   "metadata": {},
   "outputs": [],
   "source": [
    "low_sales_threshold\n"
   ]
  },
  {
   "cell_type": "code",
   "execution_count": null,
   "id": "0343a049",
   "metadata": {},
   "outputs": [],
   "source": [
    "high_margin_threshold"
   ]
  },
  {
   "cell_type": "code",
   "execution_count": null,
   "id": "f28da2c5",
   "metadata": {},
   "outputs": [],
   "source": [
    "target_brands = brand_performance[\n",
    "(brand_performance['TotalSalesDollars'] <= low_sales_threshold) & \n",
    "(brand_performance['ProfitMargin'] > high_margin_threshold)\n",
    "]\n",
    "\n",
    "print(\"Brands with Low Sales but High Profit Margins:\")\n",
    "display(target_brands.sort_values('TotalSalesDollars'))"
   ]
  },
  {
   "cell_type": "code",
   "execution_count": null,
   "id": "9364b9f0",
   "metadata": {},
   "outputs": [],
   "source": [
    "brand_performance = brand_performance[brand_performance['TotalSalesDollars'] < 100000]  # for better visualization\n"
   ]
  },
  {
   "cell_type": "code",
   "execution_count": null,
   "id": "9308a0c8",
   "metadata": {},
   "outputs": [],
   "source": [
    "plt.figure(figsize=(10, 6))\n",
    "sns.scatterplot(data=brand_performance, x='TotalSalesDollars', y='ProfitMargin', color=\"blue\", label=\"All Brands\", alpha = 0.2)\n",
    "sns.scatterplot(data=target_brands, x='TotalSalesDollars', y='ProfitMargin', color=\"red\", label=\"Target Brands\")\n",
    "\n",
    "plt.axhline(high_margin_threshold, linestyle='--', color='black', label=\"High Margin Threshold\")\n",
    "plt.axvline(low_sales_threshold, linestyle='--', color='black', label=\"Low Sales Threshold\")\n",
    "\n",
    "plt.xlabel(\"Total Sales ($)\")\n",
    "plt.ylabel(\"Profit Margin (%)\")\n",
    "plt.title(\"Brands for Promotional or Pricing Adjustments\")\n",
    "plt.legend()\n",
    "plt.grid(True)\n",
    "plt.show()\n"
   ]
  },
  {
   "cell_type": "markdown",
   "id": "a5252cc2",
   "metadata": {},
   "source": [
    "Which vendors and brands demonstrate the highest sales performance?"
   ]
  },
  {
   "cell_type": "code",
   "execution_count": null,
   "id": "f33ee29c",
   "metadata": {},
   "outputs": [],
   "source": [
    "def format_dollar(value):\n",
    "    if value >= 1_000_000:\n",
    "        return f\"{value / 1_000_000: .2f}M\"\n",
    "    elif value >= 1_000:\n",
    "        return f\"{value / 1_000: .2f}M\"\n",
    "    else:\n",
    "        return str(value)"
   ]
  },
  {
   "cell_type": "code",
   "execution_count": null,
   "id": "f70580bb",
   "metadata": {},
   "outputs": [],
   "source": [
    "#top vendors and brands by sales perfromance\n",
    "top_vendors = df.groupby(\"VendorName\")['TotalSalesDollars'].sum().nlargest(10)\n",
    "top_brands = df.groupby(\"Description\")['TotalSalesDollars'].sum().nlargest(10)\n",
    "top_vendors.apply(lambda x: format_dollar(x))"
   ]
  },
  {
   "cell_type": "code",
   "execution_count": null,
   "id": "4c7471f9",
   "metadata": {},
   "outputs": [],
   "source": [
    "top_brands.apply(lambda x: format_dollar(x))"
   ]
  },
  {
   "cell_type": "code",
   "execution_count": null,
   "id": "18b819c7",
   "metadata": {},
   "outputs": [],
   "source": [
    "plt.figure(figsize=(15,5))\n",
    "\n",
    "# Plot for top vendors\n",
    "plt.subplot(1,2,1)\n",
    "ax1 = sns.barplot(y=top_vendors.index, x=top_vendors, palette=\"Blues_r\")\n",
    "plt.title(\"Top 10 Vendors by sales\")\n",
    "\n",
    "for bar in ax1.patches:\n",
    "    ax1.text(bar.get_width() + (bar.get_width() * 0.02),\n",
    "             bar.get_y() + bar.get_height() / 2,\n",
    "             format_dollar(bar.get_width()),\n",
    "             ha='left', va='center', fontsize=10, color='black')\n",
    "\n",
    "# Plot for top brands\n",
    "plt.subplot(1,2,2)\n",
    "ax2 = sns.barplot(y=top_brands.index, x=top_brands, palette=\"Reds_r\")\n",
    "plt.title(\"Top 10 Brands by sales\")\n",
    "\n",
    "for bar in ax2.patches:\n",
    "    ax2.text(bar.get_width() + (bar.get_width() * 0.02),\n",
    "             bar.get_y() + bar.get_height() / 2,\n",
    "             format_dollar(bar.get_width()),\n",
    "             ha='left', va='center', fontsize=10, color='black')\n",
    "\n",
    "plt.tight_layout()\n",
    "plt.show()\n"
   ]
  },
  {
   "cell_type": "markdown",
   "id": "1656e008",
   "metadata": {},
   "source": [
    "which vendor contibute the most to total purchase dollars?"
   ]
  },
  {
   "cell_type": "code",
   "execution_count": null,
   "id": "84c9d675",
   "metadata": {},
   "outputs": [],
   "source": [
    "vendor_performance = df.groupby('VendorName').agg({\n",
    "    'TotalPurchaseDollars': 'sum',\n",
    "    'GrossProfit' : 'sum',\n",
    "    'TotalSalesDollars':'sum'\n",
    "    \n",
    "}).reset_index()"
   ]
  },
  {
   "cell_type": "code",
   "execution_count": null,
   "id": "eed8f6ad",
   "metadata": {},
   "outputs": [],
   "source": [
    "vendor_performance['PurchaseContribution%'] = vendor_performance['TotalPurchaseDollars'] / vendor_performance['TotalPurchaseDollars'].sum()"
   ]
  },
  {
   "cell_type": "code",
   "execution_count": null,
   "id": "1fa0fbfd",
   "metadata": {},
   "outputs": [],
   "source": [
    "vendor_performance = round(vendor_performance.sort_values('PurchaseContribution%',ascending = False),2)"
   ]
  },
  {
   "cell_type": "code",
   "execution_count": null,
   "id": "44e23eb0",
   "metadata": {},
   "outputs": [],
   "source": [
    "# Display Top 10 Vendors\n",
    "top_vendors = vendor_performance.head(10)\n",
    "top_vendors['TotalSalesDollars'] = top_vendors['TotalSalesDollars'].apply(format_dollar)\n",
    "top_vendors['TotalPurchaseDollars'] = top_vendors['TotalPurchaseDollars'].apply(format_dollar)\n",
    "top_vendors['GrossProfit'] = top_vendors['GrossProfit'].apply(format_dollar)\n",
    "top_vendors\n"
   ]
  },
  {
   "cell_type": "code",
   "execution_count": null,
   "id": "62c1fce0",
   "metadata": {},
   "outputs": [],
   "source": [
    "top_vendors['PurchaseContribution%'].sum()*100"
   ]
  },
  {
   "cell_type": "code",
   "execution_count": null,
   "id": "1621732b",
   "metadata": {},
   "outputs": [],
   "source": [
    "# Calculate Cumulative Contribution %\n",
    "top_vendors['Cumulative_Contribution%'] = top_vendors['PurchaseContribution%'].cumsum()*100\n",
    "top_vendors\n"
   ]
  },
  {
   "cell_type": "code",
   "execution_count": null,
   "id": "907fae95",
   "metadata": {},
   "outputs": [],
   "source": [
    "fig, ax1 = plt.subplots(figsize=(10, 6))\n",
    "\n",
    "# Bar plot for Purchase Contribution%\n",
    "sns.barplot(x=top_vendors['VendorName'], y=top_vendors['PurchaseContribution%'], palette=\"mako\", ax=ax1)\n",
    "\n",
    "for i, value in enumerate(top_vendors['PurchaseContribution%']):\n",
    "    ax1.text(i, value-1, str(value)+'%', ha='center', fontsize=10, color='white')\n",
    "\n",
    "# Line Plot for Cumulative Contribution%\n",
    "ax2 = ax1.twinx()\n",
    "ax2.plot(top_vendors['VendorName'], top_vendors['Cumulative_Contribution%'], color='red', marker='o', linestyle='dashed', label='Cumulative Contribution %')\n",
    "\n",
    "ax1.set_xticklabels(top_vendors['VendorName'], rotation=90)\n",
    "ax1.set_ylabel('Purchase Contribution %', color='blue')\n",
    "ax2.set_ylabel('Cumulative Contribution %', color='red')\n",
    "ax1.set_xlabel('Vendors')\n",
    "ax1.set_title('Pareto Chart: Vendor Contribution to Total Purchases')\n",
    "\n",
    "ax2.axhline(y=100, color='gray', linestyle='dashed', alpha=0.7)\n",
    "ax2.legend(loc='upper right')\n",
    "\n",
    "plt.show()\n"
   ]
  },
  {
   "cell_type": "markdown",
   "id": "c1d76a1a",
   "metadata": {},
   "source": [
    "How much of total procurement is dependent on the top vendors?"
   ]
  },
  {
   "cell_type": "code",
   "execution_count": null,
   "id": "191befb8",
   "metadata": {},
   "outputs": [],
   "source": [
    "print(f\"Total Purchase Contribution of top 10 vendors is {round(top_vendors['PurchaseContribution%'].sum(),2)}%\")\n"
   ]
  },
  {
   "cell_type": "code",
   "execution_count": null,
   "id": "e38100b9",
   "metadata": {},
   "outputs": [],
   "source": [
    "vendors = list(top_vendors['VendorName'].values)\n",
    "purchase_contributions = list(top_vendors['PurchaseContribution%'].values)\n",
    "\n",
    "# Convert fractional contributions to percentage scale\n",
    "purchase_contributions_percent = [x * 100 for x in purchase_contributions]\n",
    "\n",
    "total_contribution = sum(purchase_contributions_percent)\n",
    "remaining_contribution = 100 - total_contribution\n",
    "\n",
    "# Append \"Other Vendors\" category\n",
    "vendors.append(\"Other Vendors\")\n",
    "purchase_contributions_percent.append(remaining_contribution)\n",
    "\n",
    "# Donut Chart\n",
    "fig, ax = plt.subplots(figsize=(8, 8))\n",
    "wedges, texts, autotexts = ax.pie(\n",
    "    purchase_contributions_percent, \n",
    "    labels=vendors, \n",
    "    autopct='%1.1f%%', \n",
    "    startangle=140, \n",
    "    pctdistance=0.85, \n",
    "    colors=plt.cm.Paired.colors\n",
    ")\n",
    "\n",
    "# Draw a white circle in the center to create a \"donut\" effect\n",
    "centre_circle = plt.Circle((0, 0), 0.70, fc='white')\n",
    "fig.gca().add_artist(centre_circle)\n",
    "\n",
    "# Add Total Contribution annotation in the center\n",
    "plt.text(0, 0, f\"Top 10 Total:\\n{total_contribution:.2f}%\", fontsize=14, fontweight='bold', ha='center', va='center')\n",
    "\n",
    "plt.title(\"Top 10 Vendor's Purchase Contribution (%)\")\n",
    "\n",
    "plt.show()\n"
   ]
  },
  {
   "cell_type": "markdown",
   "id": "786bc671",
   "metadata": {},
   "source": [
    "Does purchasing in bulk reduce the unit price, and what is the optimal purchase volume for cost savings?"
   ]
  },
  {
   "cell_type": "code",
   "execution_count": null,
   "id": "2b0e7998",
   "metadata": {},
   "outputs": [],
   "source": [
    "df['UnitPurchasePrice'] = df['TotalPurchaseDollars'] / df['TotalPurchaseQuantity']\n"
   ]
  },
  {
   "cell_type": "code",
   "execution_count": null,
   "id": "3c0225b6",
   "metadata": {},
   "outputs": [],
   "source": [
    "df[\"OrderSize\"] = pd.qcut(df[\"TotalPurchaseQuantity\"], q=3, labels=[\"Small\", \"Medium\", \"Large\"])\n"
   ]
  },
  {
   "cell_type": "code",
   "execution_count": null,
   "id": "39e5fc40",
   "metadata": {},
   "outputs": [],
   "source": [
    "df.groupby('OrderSize')[['UnitPurchasePrice']].mean()"
   ]
  },
  {
   "cell_type": "code",
   "execution_count": null,
   "id": "b61a9903",
   "metadata": {},
   "outputs": [],
   "source": [
    "plt.figure(figsize=(10, 6))\n",
    "sns.boxplot(data=df, x=\"OrderSize\", y=\"UnitPurchasePrice\", palette=\"Set2\")\n",
    "plt.title(\"Impact of Bulk Purchasing on Unit Price\")\n",
    "plt.xlabel(\"Order Size\")\n",
    "plt.ylabel(\"Average Unit Purchase Price\")\n",
    "plt.show()\n"
   ]
  },
  {
   "cell_type": "markdown",
   "id": "0daae42f",
   "metadata": {},
   "source": [
    "- Vendors buying in bulk (Large Order Size) get the lowest unit price ($10.78 per unit), meaning higher margins if they can manage inventory efficiently.\n",
    "- The price difference between Small and Large orders is substantial (~72% reduction in unit cost).\n",
    "- This suggests that bulk pricing strategies successfully encourage vendors to purchase in larger volumes, leading to higher overall sales despite lower per-unit revenue."
   ]
  },
  {
   "cell_type": "markdown",
   "id": "797a0f55",
   "metadata": {},
   "source": [
    "Which vendors have low inventory turnover, indicating excess stock and slow-moving products?"
   ]
  },
  {
   "cell_type": "code",
   "execution_count": null,
   "id": "83cb6fb9",
   "metadata": {},
   "outputs": [],
   "source": [
    " df[df['StockTurnover']<1].groupby('VendorName')[['StockTurnover']].mean(0).sort_values('StockTurnover',ascending = True).head(10)"
   ]
  },
  {
   "cell_type": "markdown",
   "id": "264ac317",
   "metadata": {},
   "source": [
    "How much capital is locked in unsolved inventory per vendor, and which vendor contribute the most to it?"
   ]
  },
  {
   "cell_type": "code",
   "execution_count": null,
   "id": "7baeecf8",
   "metadata": {},
   "outputs": [],
   "source": [
    "df['UnsolvedInventoryValue'] = (df['TotalPurchaseQuantity'] - df['TotalSalesQuantity']) * df['PurchasePrice']\n",
    "print('Total Unsold Capital:', format_dollar(df['UnsolvedInventoryValue'].sum()))"
   ]
  },
  {
   "cell_type": "code",
   "execution_count": null,
   "id": "7b06ae24",
   "metadata": {},
   "outputs": [],
   "source": [
    "#aggregate Capital locked per vendor\n",
    "inventory_value_per_vendor = df.groupby('VendorName')['UnsolvedInventoryValue'].sum().reset_index()\n",
    "#sort Vendor with the highest locked capital\n",
    "inventory_value_per_vendor = inventory_value_per_vendor.sort_values(by = 'UnsolvedInventoryValue', ascending = False)\n",
    "inventory_value_per_vendor['UnsolvedInventoryValue'] = inventory_value_per_vendor['UnsolvedInventoryValue'].apply(format_dollar)\n",
    "\n",
    "inventory_value_per_vendor.head(10)"
   ]
  },
  {
   "cell_type": "markdown",
   "id": "f1f6a5d6",
   "metadata": {},
   "source": [
    "What is the 95% confidence intervals for profit margins of top-performing and low-performing vendors."
   ]
  },
  {
   "cell_type": "code",
   "execution_count": null,
   "id": "0e4647dc",
   "metadata": {},
   "outputs": [],
   "source": [
    "top_threshold = df['TotalSalesDollars'].quantile(0.75)\n",
    "low_threshold = df['TotalSalesDollars'].quantile(0.25)\n",
    "\n"
   ]
  },
  {
   "cell_type": "code",
   "execution_count": null,
   "id": "f6ffd13d",
   "metadata": {},
   "outputs": [],
   "source": [
    "top_vendors = df[df['TotalSalesDollars']>= top_threshold]['ProfitMargin'].dropna()\n",
    "low_vendors = df[df['TotalSalesDollars']<= low_threshold]['ProfitMargin'].dropna()"
   ]
  },
  {
   "cell_type": "code",
   "execution_count": null,
   "id": "c20e36de",
   "metadata": {},
   "outputs": [],
   "source": [
    "top_vendors"
   ]
  },
  {
   "cell_type": "code",
   "execution_count": null,
   "id": "422c02ba",
   "metadata": {},
   "outputs": [],
   "source": [
    "low_vendors"
   ]
  },
  {
   "cell_type": "code",
   "execution_count": null,
   "id": "277ae396",
   "metadata": {},
   "outputs": [],
   "source": [
    "def confidence_interval(data, confidence=0.95):\n",
    "    mean_val = np.mean(data)\n",
    "    std_err = np.std(data, ddof=1) / np.sqrt(len(data))\n",
    "    t_critical = stats.t.ppf((1 + confidence) / 2, df=len(data) - 1)\n",
    "    margin_of_error = t_critical * std_err  # use std_err here, not std_error\n",
    "    return mean_val, mean_val - margin_of_error, mean_val + margin_of_error\n"
   ]
  },
  {
   "cell_type": "code",
   "execution_count": null,
   "id": "0dd52847",
   "metadata": {},
   "outputs": [],
   "source": [
    "top_mean, top_lower, top_upper = confidence_interval(top_vendors)\n",
    "low_mean, low_lower, low_upper = confidence_interval(low_vendors)\n",
    "\n",
    "print(f\"Top Vendors 95% CI: (({top_lower:.2f}, {top_upper:.2f}), Mean: {top_mean:.2f})\")\n",
    "print(f\"Low Vendors 95% CI: (({low_lower:.2f}, {low_upper:.2f}), Mean: {low_mean:.2f})\")\n",
    "\n",
    "plt.figure(figsize=(12, 6))\n",
    "\n",
    "# Top Vendors Plot\n",
    "sns.histplot(top_vendors, kde=True, color=\"blue\", bins=30, alpha=0.5, label=\"Top Vendors\")\n",
    "plt.axvline(top_lower, color=\"blue\", linestyle=\"--\", label=f\"Top Lower: {top_lower:.2f}\")\n",
    "plt.axvline(top_upper, color=\"blue\", linestyle=\"--\", label=f\"Top Upper: {top_upper:.2f}\")\n",
    "plt.axvline(top_mean, color=\"blue\", linestyle=\"-\", label=f\"Top Mean: {top_mean:.2f}\")\n",
    "\n",
    "# Low Vendors Plot\n",
    "sns.histplot(low_vendors, kde=True, color=\"red\", bins=30, alpha=0.5, label=\"Low Vendors\")\n",
    "plt.axvline(low_lower, color=\"red\", linestyle=\"--\", label=f\"Low Lower: {low_lower:.2f}\")\n",
    "plt.axvline(low_upper, color=\"red\", linestyle=\"--\", label=f\"Low Upper: {low_upper:.2f}\")\n",
    "plt.axvline(low_mean, color=\"red\", linestyle=\"-\", label=f\"Low Mean: {low_mean:.2f}\")\n",
    "\n",
    "# Finalize Plot\n",
    "plt.title(\"Confidence Interval Comparison: Top vs. Low Vendors (Profit Margin)\")\n",
    "plt.xlabel(\"Profit Margin (%)\")\n",
    "plt.ylabel(\"Frequency\")\n",
    "plt.legend()\n",
    "plt.grid(True)\n",
    "plt.show()\n"
   ]
  },
  {
   "cell_type": "markdown",
   "id": "1be7c784",
   "metadata": {},
   "source": [
    "* The confidence interval for low-performing vendors (40.48% to 42.62%) is significantly higher than that of top-performing vendors (30.74% to 31.61%).\n",
    "\n",
    "* This suggests that vendors with lower sales tend to maintain higher profit margins, potentially due to premium pricing or lower operational costs.\n",
    "\n",
    "* For High-Performing Vendors: If they aim to improve profitability, they could explore selective price adjustments, cost optimization, or bundling strategies.\n",
    "\n",
    "* For Low-Performing Vendors: Despite higher margins, their low sales volume might indicate a need for better marketing, competitive pricing, or improved distribution strategies.\n",
    "\n"
   ]
  },
  {
   "cell_type": "markdown",
   "id": "dba50244",
   "metadata": {},
   "source": [
    "Is there a significant difference in profit margins between top-performing and low-performing vendors?\n",
    "\n",
    "Hypothesis:\n",
    "\n",
    "H₀ (Null Hypothesis): There is no significant difference in the mean profit margins of top-performing and low-performing vendors.\n",
    "\n",
    "H₁ (Alternative Hypothesis): The mean profit margins of top-performing and low-performing vendors are significantly different."
   ]
  },
  {
   "cell_type": "code",
   "execution_count": null,
   "id": "d7e4192e",
   "metadata": {},
   "outputs": [],
   "source": [
    "top_threshold = df[\"TotalSalesDollars\"].quantile(0.75)\n",
    "low_threshold = df[\"TotalSalesDollars\"].quantile(0.25)\n",
    "\n",
    "top_vendors = df[df[\"TotalSalesDollars\"] >= top_threshold][\"ProfitMargin\"].dropna()\n",
    "low_vendors = df[df[\"TotalSalesDollars\"] <= low_threshold][\"ProfitMargin\"].dropna()\n",
    "\n",
    "# Perform Two-Sample T-Test\n",
    "t_stat, p_value = ttest_ind(top_vendors, low_vendors, equal_var=False)\n",
    "\n",
    "# Print results\n",
    "print(f\"T-Statistic: {t_stat:.4f}, P-Value: {p_value:.4f}\")\n",
    "if p_value < 0.05:\n",
    "    print(\"Reject H₀: There is a significant difference in profit margins between top and low-performing vendors.\")\n",
    "else:\n",
    "    print(\"Fail to Reject H₀: No significant difference in profit margins.\")\n",
    "\n"
   ]
  }
 ],
 "metadata": {
  "language_info": {
   "name": "python"
  }
 },
 "nbformat": 4,
 "nbformat_minor": 5
}
